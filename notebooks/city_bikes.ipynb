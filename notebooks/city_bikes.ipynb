{
 "cells": [
  {
   "cell_type": "markdown",
   "metadata": {},
   "source": [
    "# CityBikes"
   ]
  },
  {
   "cell_type": "markdown",
   "metadata": {},
   "source": [
    "Load all modules required for notebook"
   ]
  },
  {
   "cell_type": "code",
   "execution_count": 41,
   "metadata": {},
   "outputs": [],
   "source": [
    "# !pip install pandas"
   ]
  },
  {
   "cell_type": "code",
   "execution_count": 42,
   "metadata": {},
   "outputs": [],
   "source": [
    "import requests\n",
    "import pandas as pd\n",
    "import json"
   ]
  },
  {
   "cell_type": "markdown",
   "metadata": {},
   "source": [
    "Capture data from City Bikes API"
   ]
  },
  {
   "cell_type": "code",
   "execution_count": 43,
   "metadata": {},
   "outputs": [],
   "source": [
    "#Establish API endpoint URL\n",
    "city_bikes_endpoint_url = \"http://api.citybik.es/v2/networks\"\n",
    "network = 'mobibikes'\n",
    "complete_url = f\"{city_bikes_endpoint_url}/{network}\"\n",
    "\n",
    "#Get data from API\n",
    "city_bike_response = requests.get(complete_url)\n",
    "\n",
    "\n",
    "#Write JSON data into file\n",
    "file_path = '../data/city_bikes.json'\n",
    "with open(file_path, 'w') as json_file:\n",
    "    json.dump(city_bike_response.json(), json_file, indent=4)\n",
    "\n"
   ]
  },
  {
   "cell_type": "code",
   "execution_count": 44,
   "metadata": {},
   "outputs": [],
   "source": [
    "# city_bike_stations_json = city_bike_response.json()['network']['stations']\n",
    "\n",
    "with open(file_path, 'r') as json_file:\n",
    "    city_bike_json = json.load(json_file)\n",
    "\n",
    "stations_list = city_bike_json['network']['stations']\n"
   ]
  },
  {
   "cell_type": "markdown",
   "metadata": {},
   "source": [
    "Parse through the response to get the required details for name, latitude, longitude & number of bikes. "
   ]
  },
  {
   "cell_type": "code",
   "execution_count": 45,
   "metadata": {},
   "outputs": [],
   "source": [
    "station_names = [station['name'] for station in stations_list]\n",
    "station_latitude = [station['latitude'] for station in stations_list]\n",
    "station_longitude = [station['longitude'] for station in stations_list]\n",
    "station_slots = [station['extra']['slots'] for station in stations_list]\n"
   ]
  },
  {
   "cell_type": "markdown",
   "metadata": {},
   "source": [
    "Put parsed results into a DataFrame."
   ]
  },
  {
   "cell_type": "code",
   "execution_count": 46,
   "metadata": {},
   "outputs": [
    {
     "data": {
      "text/html": [
       "<div>\n",
       "<style scoped>\n",
       "    .dataframe tbody tr th:only-of-type {\n",
       "        vertical-align: middle;\n",
       "    }\n",
       "\n",
       "    .dataframe tbody tr th {\n",
       "        vertical-align: top;\n",
       "    }\n",
       "\n",
       "    .dataframe thead th {\n",
       "        text-align: right;\n",
       "    }\n",
       "</style>\n",
       "<table border=\"1\" class=\"dataframe\">\n",
       "  <thead>\n",
       "    <tr style=\"text-align: right;\">\n",
       "      <th></th>\n",
       "      <th>names</th>\n",
       "      <th>latitude</th>\n",
       "      <th>longitude</th>\n",
       "      <th>slots</th>\n",
       "    </tr>\n",
       "  </thead>\n",
       "  <tbody>\n",
       "    <tr>\n",
       "      <th>0</th>\n",
       "      <td>Chilco &amp; Barclay</td>\n",
       "      <td>49.291909</td>\n",
       "      <td>-123.140713</td>\n",
       "      <td>18</td>\n",
       "    </tr>\n",
       "    <tr>\n",
       "      <th>1</th>\n",
       "      <td>St George &amp; Broadway</td>\n",
       "      <td>49.262321</td>\n",
       "      <td>-123.093060</td>\n",
       "      <td>14</td>\n",
       "    </tr>\n",
       "    <tr>\n",
       "      <th>2</th>\n",
       "      <td>Britannia Parking Lot</td>\n",
       "      <td>49.275882</td>\n",
       "      <td>-123.071865</td>\n",
       "      <td>14</td>\n",
       "    </tr>\n",
       "    <tr>\n",
       "      <th>3</th>\n",
       "      <td>Morton &amp; Denman</td>\n",
       "      <td>49.288030</td>\n",
       "      <td>-123.142135</td>\n",
       "      <td>26</td>\n",
       "    </tr>\n",
       "    <tr>\n",
       "      <th>4</th>\n",
       "      <td>Thornton &amp; National</td>\n",
       "      <td>49.273777</td>\n",
       "      <td>-123.092723</td>\n",
       "      <td>14</td>\n",
       "    </tr>\n",
       "    <tr>\n",
       "      <th>...</th>\n",
       "      <td>...</td>\n",
       "      <td>...</td>\n",
       "      <td>...</td>\n",
       "      <td>...</td>\n",
       "    </tr>\n",
       "    <tr>\n",
       "      <th>253</th>\n",
       "      <td>7th &amp; Heather</td>\n",
       "      <td>49.265089</td>\n",
       "      <td>-123.119425</td>\n",
       "      <td>18</td>\n",
       "    </tr>\n",
       "    <tr>\n",
       "      <th>254</th>\n",
       "      <td>Union &amp; Dunlevy</td>\n",
       "      <td>49.277595</td>\n",
       "      <td>-123.095830</td>\n",
       "      <td>16</td>\n",
       "    </tr>\n",
       "    <tr>\n",
       "      <th>255</th>\n",
       "      <td>Richards &amp; Helmcken</td>\n",
       "      <td>49.277141</td>\n",
       "      <td>-123.122589</td>\n",
       "      <td>18</td>\n",
       "    </tr>\n",
       "    <tr>\n",
       "      <th>256</th>\n",
       "      <td>Keefer &amp; Abbott</td>\n",
       "      <td>49.279821</td>\n",
       "      <td>-123.108020</td>\n",
       "      <td>28</td>\n",
       "    </tr>\n",
       "    <tr>\n",
       "      <th>257</th>\n",
       "      <td>8th &amp; Prince Edward</td>\n",
       "      <td>49.263518</td>\n",
       "      <td>-123.095680</td>\n",
       "      <td>18</td>\n",
       "    </tr>\n",
       "  </tbody>\n",
       "</table>\n",
       "<p>258 rows × 4 columns</p>\n",
       "</div>"
      ],
      "text/plain": [
       "                     names   latitude   longitude  slots\n",
       "0         Chilco & Barclay  49.291909 -123.140713     18\n",
       "1     St George & Broadway  49.262321 -123.093060     14\n",
       "2    Britannia Parking Lot  49.275882 -123.071865     14\n",
       "3          Morton & Denman  49.288030 -123.142135     26\n",
       "4      Thornton & National  49.273777 -123.092723     14\n",
       "..                     ...        ...         ...    ...\n",
       "253          7th & Heather  49.265089 -123.119425     18\n",
       "254        Union & Dunlevy  49.277595 -123.095830     16\n",
       "255    Richards & Helmcken  49.277141 -123.122589     18\n",
       "256        Keefer & Abbott  49.279821 -123.108020     28\n",
       "257    8th & Prince Edward  49.263518 -123.095680     18\n",
       "\n",
       "[258 rows x 4 columns]"
      ]
     },
     "execution_count": 46,
     "metadata": {},
     "output_type": "execute_result"
    }
   ],
   "source": [
    "station_df = pd.DataFrame({'names': station_names, \n",
    "                           'latitude': station_latitude, \n",
    "                           'longitude': station_longitude, \n",
    "                           'slots': station_slots})\n",
    "\n",
    "station_df"
   ]
  }
 ],
 "metadata": {
  "kernelspec": {
   "display_name": ".venv",
   "language": "python",
   "name": "python3"
  },
  "language_info": {
   "codemirror_mode": {
    "name": "ipython",
    "version": 3
   },
   "file_extension": ".py",
   "mimetype": "text/x-python",
   "name": "python",
   "nbconvert_exporter": "python",
   "pygments_lexer": "ipython3",
   "version": "3.13.1"
  }
 },
 "nbformat": 4,
 "nbformat_minor": 4
}
